{
 "cells": [
  {
   "cell_type": "markdown",
   "metadata": {},
   "source": [
    "Нейронные сети\n",
    "Интерпретация информации создержащейся в изображениях была долгое время сложной проблемой в анализе данных, но эта задача теперь действиетльно начинает решаться. Последние исследования дали накм алгоритмы для обнаужения и распознавания образов для точки где автоматизированные коммерческие системы теперь используются в реальных задачах в большинстве вендоров. Эти системы способны распознавать объекты и людей на видео.\n",
    "\n",
    "С извлечением информации из изображений исть сложности. Есть много сырых данных в изображении , и страндартный метод кодирования озбражений - пиксели, не информативен сам по себе. Изобюражения, отчасти фото , могут быть размыты , слишком близко к целям, слишком темными или светлыми и т.д.\n",
    "\n",
    "В это главе мы будем работать над системой распознавания текста из картинок с использованием нейронных сетей для предугадывания каждой буквы. \n",
    "\n",
    "Глава включаем в себя :\n",
    "Нейронные сети\n",
    "СОздание нашего набора данных капчи и символов \n",
    "Работу с библиотекой scikit-image\n",
    "PyBrain для работы с нейронными сетями\n",
    "Извлечение базовых признаков из изображений\n",
    "Использование нейронных сетей дл большого спектра задач классификации\n",
    "Улучшение результатов используя постобработку\n",
    "\n",
    "Искусственные нейронные сети\n",
    "<промотаем данную главу, так как она есть у нас в книжке и перейдем сразу к коду>\n",
    "\n",
    "\n"
   ]
  },
  {
   "cell_type": "markdown",
   "metadata": {
    "collapsed": true
   },
   "source": []
  },
  {
   "cell_type": "code",
   "execution_count": 84,
   "metadata": {
    "collapsed": false
   },
   "outputs": [],
   "source": [
    "import numpy as np\n",
    "from PIL import Image, ImageDraw, ImageFont\n",
    "from skimage import transform as tf\n",
    "\n"
   ]
  },
  {
   "cell_type": "code",
   "execution_count": 123,
   "metadata": {
    "collapsed": false
   },
   "outputs": [
    {
     "data": {
      "text/plain": [
       "array([[ 0.,  0.,  0., ...,  0.,  0.,  0.],\n",
       "       [ 0.,  0.,  0., ...,  0.,  0.,  0.],\n",
       "       [ 0.,  0.,  0., ...,  0.,  0.,  0.],\n",
       "       ..., \n",
       "       [ 0.,  0.,  0., ...,  0.,  0.,  0.],\n",
       "       [ 0.,  0.,  0., ...,  0.,  0.,  0.],\n",
       "       [ 0.,  0.,  0., ...,  0.,  0.,  0.]])"
      ]
     },
     "execution_count": 123,
     "metadata": {},
     "output_type": "execute_result"
    }
   ],
   "source": [
    "def create_captcha(text, shear=0, size=(100,24)):\n",
    "    im = Image.new(\"L\", size, \"black\")\n",
    "    draw = ImageDraw.Draw(im)\n",
    "    font = ImageFont.truetype(r\"Coval-Medium.otf\", 22)\n",
    "    draw.text((2, 2), text, fill=1, font=font)\n",
    "    image = np.array(im)\n",
    "    \n",
    "    affine_tf = tf.AffineTransform(shear=shear)\n",
    "    image = tf.warp(image, affine_tf)\n",
    "    return image / image.max()\n",
    "create_captcha(\"adasd\")"
   ]
  },
  {
   "cell_type": "code",
   "execution_count": 124,
   "metadata": {
    "collapsed": false
   },
   "outputs": [
    {
     "data": {
      "text/plain": [
       "<matplotlib.image.AxesImage at 0xa6d333ec>"
      ]
     },
     "execution_count": 124,
     "metadata": {},
     "output_type": "execute_result"
    },
    {
     "data": {
      "image/png": "[encoded data removed]",
      "text/plain": [
       "<matplotlib.figure.Figure at 0xa70f970c>"
      ]
     },
     "metadata": {},
     "output_type": "display_data"
    }
   ],
   "source": [
    "%matplotlib inline\n",
    "from matplotlib import pyplot as plt\n",
    "image = create_captcha(\"GENE\", shear=0.4)\n",
    "plt.imshow(image, cmap=\"Greys\")"
   ]
  },
  {
   "cell_type": "markdown",
   "metadata": {},
   "source": [
    "Разбиение картинки на отдельные буквы\n",
    "\n",
    "Наша КАПЧА -это слова. Вместо создания классификатора который может идентифицировать тысячи и тысячи слов - мы разобьем быльшую проблемы на проблемы поменьше, на проблемы распознавания букв.\n",
    "\n",
    "Следующий шаг в нашем алгоритме включает в себя разделение слов на буквы. Для того что бы это сделать  нам следует создать функцию которая найдет отдельные секции черных пикселей на картинке и извлечет их как отдельные картинки. \n",
    "Вначале , импортируем label и regionprops функции, которые ммы будем использовать в данной функции."
   ]
  },
  {
   "cell_type": "code",
   "execution_count": 125,
   "metadata": {
    "collapsed": true
   },
   "outputs": [],
   "source": [
    "from skimage.measure import label, regionprops\n"
   ]
  },
  {
   "cell_type": "markdown",
   "metadata": {},
   "source": [
    "Наша функция получает образ и возращает список отдельный картинок с буквами:\n",
    "Вначале мы должны определить где находится каждыя буква. Для того что бы это сдлать мы используем  label функцию scikit-image, которая находит соединенные множества пикселей которые имеют одно и то же значение. \n",
    "\n",
    "Label функция получает изображение и возвращает массив такой же размерности что и оригинальный. Однако, каждый замкнутый регион имеет отличный номер в массиве и пикесели которые не сеодинены с регионом имеют значение 0. "
   ]
  },
  {
   "cell_type": "code",
   "execution_count": 126,
   "metadata": {
    "collapsed": false
   },
   "outputs": [],
   "source": [
    "def segment_image(image):\n",
    "    labeled_image = label(image > 0)\n",
    "    subimages= []\n",
    "    for region in regionprops(labeled_image):\n",
    "        # Для нашего алгоритма нам нужно получить координаты каждой из областей\n",
    "        start_x, start_y, end_x, end_y = region.bbox\n",
    "        subimages.append(image[start_x:end_x,start_y:end_y])\n",
    "    if len(subimages) ==0 :\n",
    "        return [image,]\n",
    "    return subimages\n"
   ]
  },
  {
   "cell_type": "code",
   "execution_count": 128,
   "metadata": {
    "collapsed": false
   },
   "outputs": [
    {
     "data": {
      "image/png": "[encoded data removed]",
      "text/plain": [
       "<matplotlib.figure.Figure at 0xa6d02e2c>"
      ]
     },
     "metadata": {},
     "output_type": "display_data"
    }
   ],
   "source": [
    "subimages = segment_image(image)\n",
    "f,axes = plt.subplots(1, len(subimages), figsize=(10,3))\n",
    "for i in range(len(subimages)):\n",
    "    axes[i].imshow(subimages[i],cmap=\"Greys\")"
   ]
  },
  {
   "cell_type": "markdown",
   "metadata": {},
   "source": [
    "Создаем тренировочный набор данных\n",
    "Используя данную функцию, мы можем теперь создать датасет символов , каждый с различными значениями shear (сдвига) . На этих данных мы обучим нейронную сеть распознавать кадый символ в изображении. \n",
    "\n",
    "Вначале мы установим сулчаейное состоянием и массив который содержит варианты для символов и значения сдвига которы будут случайно выбраны. Это не очень удивляет , но если вы не испльзовали numpy arange функцию до этого , это похоже на Питонью range функцию за исключением того что arange позволяет использовать плавающий шаг.\n",
    "Код:"
   ]
  },
  {
   "cell_type": "code",
   "execution_count": 129,
   "metadata": {
    "collapsed": false
   },
   "outputs": [],
   "source": [
    "from sklearn.utils import check_random_state\n",
    "random_state = check_random_state(14)\n",
    "letters = list(\"ACBDEFGHIJKLMNOPQRSTUVWXYZ\")\n",
    "shear_values = np.arange(0, 0.5, 0.05)\n",
    "# array([ 0.  ,  0.05,  0.1 ,  0.15,  0.2 ,  0.25,  0.3 ,  0.35,  0.4 ,  0.45])"
   ]
  },
  {
   "cell_type": "markdown",
   "metadata": {},
   "source": [
    "Теперь мы создаем функцию (для генерации одиночных образцов в нашем тренировочном наборе данных ) которая случайно выбирает букву и значение смещения из возможных варантов "
   ]
  },
  {
   "cell_type": "code",
   "execution_count": 149,
   "metadata": {
    "collapsed": false
   },
   "outputs": [],
   "source": [
    "def generate_sample(random_state=None):\n",
    "    random_state= check_random_state (random_state)\n",
    "    letter= random_state.choice(letters)\n",
    "    shear = random_state.choice(shear_values)\n",
    "    return create_captcha(letter,shear=shear,size=(26,26)),letters.index(letter)\n"
   ]
  },
  {
   "cell_type": "code",
   "execution_count": 159,
   "metadata": {
    "collapsed": false
   },
   "outputs": [
    {
     "name": "stdout",
     "output_type": "stream",
     "text": [
      "The target image is : 1\n"
     ]
    },
    {
     "data": {
      "image/png": "[encoded data removed]",
      "text/plain": [
       "<matplotlib.figure.Figure at 0xa76b8b2c>"
      ]
     },
     "metadata": {},
     "output_type": "display_data"
    }
   ],
   "source": [
    "image, target = generate_sample(random_state)\n",
    "plt.imshow(image,cmap =\"Greys\")\n",
    "print (\"The target image is : {0}\".format(target))\n"
   ]
  },
  {
   "cell_type": "code",
   "execution_count": 161,
   "metadata": {
    "collapsed": true
   },
   "outputs": [],
   "source": [
    "dataset, targets = zip(*(generate_sample(random_state) for i in range(4000)))\n",
    "dataset = np.array (dataset,dtype='float')\n",
    "targets = np.array (targets)"
   ]
  },
  {
   "cell_type": "markdown",
   "metadata": {},
   "source": [
    "Наши цели - значение от 0 до 26 и каждое обозначает букву алфавита. Нейронные сети обычно не поддерживают множественные значения для одного нейрона , но поддерживают множество выходов с бинарными значениями. Мы будем использовать one-hot-encoder  и сделаем 26 выходов для того что бы определить какая буква распознается "
   ]
  },
  {
   "cell_type": "code",
   "execution_count": 162,
   "metadata": {
    "collapsed": true
   },
   "outputs": [],
   "source": [
    "from sklearn.preprocessing import OneHotEncoder\n",
    "onehot = OneHotEncoder()\n",
    "y = onehot.fit_transform(targets.reshape(targets.shape[0],1))\n"
   ]
  },
  {
   "cell_type": "markdown",
   "metadata": {},
   "source": [
    "Библиотека не поддерживает разряженные массивы , а значит мы должны конвертировать нашу разряженную матрицу в плотный numpy массив. "
   ]
  },
  {
   "cell_type": "code",
   "execution_count": 163,
   "metadata": {
    "collapsed": true
   },
   "outputs": [],
   "source": [
    "y=y.todense()"
   ]
  },
  {
   "cell_type": "markdown",
   "metadata": {},
   "source": [
    "Настройка нашего тренировочного датасета для нашей методологии\n",
    "\n",
    "Наш тестовый набор данных отличается от нашей окончательной методики довольно значительно. Наш набор данных неплохо создает отдельные буквы , в изображениях 20 на 20 пикселей. Метод влияет на извлечения букв из слов , который может  ... их , бла бла бла\n",
    "\n",
    "В идеале, данные вашего тренировочного набора должны имитировать окружающую среду, насколько это возможно. Однако мы иногда идем в этом вопросе на уступки, но все раавно сремимся минимизировать различия насколько это возможно.\n",
    "\n",
    "Для этого экперимента - мы будем извлекать символы из актуальной капчи и помечать их. В целях ускорения процесса, мы просто запускам неашу функцию сегментации на тренировочном наборе и возращаем отдельные буквы\n",
    "\n",
    "Нам потребуется resize функция  из scikit-image так как наши суб-изображения не всегда будут размером 20 на 20 "
   ]
  },
  {
   "cell_type": "code",
   "execution_count": 164,
   "metadata": {
    "collapsed": true
   },
   "outputs": [],
   "source": [
    "from skimage.transform import resize"
   ]
  },
  {
   "cell_type": "markdown",
   "metadata": {},
   "source": [
    "Здесь, мы можем запустить нашу segment_image функцию для каждого образца и затем ресайзнуть их в 20 на 20 пикселей"
   ]
  },
  {
   "cell_type": "code",
   "execution_count": 165,
   "metadata": {
    "collapsed": true
   },
   "outputs": [],
   "source": [
    "dataset = np.array([resize(segment_image(sample)[0], (26, 26)) for\n",
    "sample in dataset])"
   ]
  },
  {
   "cell_type": "code",
   "execution_count": 166,
   "metadata": {
    "collapsed": true
   },
   "outputs": [],
   "source": [
    "X = dataset.reshape((dataset.shape[0], dataset.shape[1] *\n",
    "dataset.shape[2]))"
   ]
  },
  {
   "cell_type": "code",
   "execution_count": 167,
   "metadata": {
    "collapsed": false
   },
   "outputs": [],
   "source": [
    "from sklearn.cross_validation import train_test_split\n",
    "X_train, X_test, y_train, y_test = \\\n",
    "train_test_split(X, y, train_size=0.9)"
   ]
  },
  {
   "cell_type": "markdown",
   "metadata": {},
   "source": [
    "Тренировка и классификация:\n",
    "Теперь мы начинаем сторить нейронную сеть которая будет получать изображение и пытаться спрогнозировать какая буква на картинке.\n",
    "\n",
    "Мы будем использовать тренировочный набор одиночных символов который мы создали ранее. Набор данных сам по себе достаточно прост. У нас есть картинки 20 на 20 , каждый пиксель белый или черный. Это переволится в 400 признаков которые мы булем использовать  на входе нейронной сети. На выходе будет 26 значений между 0 и 1 , где наиболее выкоие значения обозначают что изображение наиболее похоже на эталон данного символа. \n",
    "\n"
   ]
  },
  {
   "cell_type": "code",
   "execution_count": 168,
   "metadata": {
    "collapsed": true
   },
   "outputs": [],
   "source": [
    "from pybrain.datasets import SupervisedDataSet"
   ]
  },
  {
   "cell_type": "code",
   "execution_count": 169,
   "metadata": {
    "collapsed": true
   },
   "outputs": [],
   "source": [
    "training = SupervisedDataSet(X.shape[1], y.shape[1])\n",
    "for i in range(X_train.shape[0]):\n",
    "    training.addSample(X_train[i], y_train[i])"
   ]
  },
  {
   "cell_type": "code",
   "execution_count": 170,
   "metadata": {
    "collapsed": true
   },
   "outputs": [],
   "source": [
    "testing = SupervisedDataSet(X.shape[1], y.shape[1])\n",
    "for i in range(X_test.shape[0]):\n",
    "    testing.addSample(X_test[i], y_test[i])"
   ]
  },
  {
   "cell_type": "markdown",
   "metadata": {},
   "source": [
    "Теперь мы можем построить нейронную сеть . Мы создадим базовую треххслойную сеть которая содержит входной и выходной слои, и один скрытый слой между ними. Количество нейронов в входном и выходном слоях - фиксировано. 400 Признаков в нашем наборе данных говорят о том что нам нужно 400 нейронов на первом слое, и 26 возможных вариантов говорят о том что нам нужно 26 выходных нейронов.\n",
    "\n",
    "Определение количества нейронов в скрытых слоях может быть более сложным\n",
    "Имея слишком много результатов в разряженной сети может означать то , что будет слишком сложно тренировать достаточно нейронов для отображения данных. Это обычно приводит в оверфиттинг тренировочных данных. Если слишком мало результатов в нейронах ... бла бла . Суть в том, что количество нейронов во внутреннем слое логично сделать чем-то средним между количеством нейронов на входе и на выходе.\n",
    "\n",
    "Мы импортируем buildNetwork функцию и скажем ей построить нейронную сеть в обознеченных нами размерностях. Первое значение X.shape[1] - это колчество нейронов в входном слое. Второе значение задает 100 нейронов в скрытом слое. Третье значение - число выходов. И в завершении, мы используем байесовский нейрон для каждого слоя, кроме выходного слоя (насколько я понял у нейронов нет порога активации, но остаются веса на соединениях)"
   ]
  },
  {
   "cell_type": "code",
   "execution_count": 171,
   "metadata": {
    "collapsed": true
   },
   "outputs": [],
   "source": [
    "from pybrain.tools.shortcuts import buildNetwork\n",
    "net = buildNetwork(X.shape[1], 100, y.shape[1], bias=True)"
   ]
  },
  {
   "cell_type": "markdown",
   "metadata": {},
   "source": [
    "АЛГОРИТМ ОБРАТНОГО РАСПРОСТРАНЕНИЯ\n",
    "\n",
    "Алгоритм обратного распространения (ошибки)  - это способ задать штрафную функцию для каждого нейрона при некорректном прогнозе. Начиная с выходного слоя, мы вычисляем каждый нейроны которые были некорректны в прогнозе, и  уточняем веса в попыытке устранить некорректный прогноз\n",
    "\n"
   ]
  },
  {
   "cell_type": "code",
   "execution_count": 172,
   "metadata": {
    "collapsed": true
   },
   "outputs": [],
   "source": [
    "from pybrain.supervised.trainers import BackpropTrainer\n",
    "trainer = BackpropTrainer(net, training, learningrate=0.01,\n",
    "weightdecay=0.01)"
   ]
  },
  {
   "cell_type": "code",
   "execution_count": 173,
   "metadata": {
    "collapsed": true
   },
   "outputs": [],
   "source": [
    "trainer.trainEpochs(epochs=20) # Number of times when we will be run the trainer"
   ]
  },
  {
   "cell_type": "code",
   "execution_count": 174,
   "metadata": {
    "collapsed": true
   },
   "outputs": [],
   "source": [
    "predictions = trainer.testOnClassData(dataset=testing)"
   ]
  },
  {
   "cell_type": "code",
   "execution_count": 175,
   "metadata": {
    "collapsed": false
   },
   "outputs": [
    {
     "ename": "ValueError",
     "evalue": "Sample-based precision, recall, fscore is not meaningful outside multilabel classification. See the accuracy_score instead.",
     "output_type": "error",
     "traceback": [
      "\u001b[0;31m---------------------------------------------------------------------------\u001b[0m",
      "\u001b[0;31mValueError\u001b[0m                                Traceback (most recent call last)",
      "\u001b[0;32m<ipython-input-175-b7eb57037812>\u001b[0m in \u001b[0;36m<module>\u001b[0;34m()\u001b[0m\n\u001b[1;32m      1\u001b[0m \u001b[0;32mfrom\u001b[0m \u001b[0msklearn\u001b[0m\u001b[0;34m.\u001b[0m\u001b[0mmetrics\u001b[0m \u001b[0;32mimport\u001b[0m \u001b[0mf1_score\u001b[0m\u001b[0;34m\u001b[0m\u001b[0m\n\u001b[0;32m----> 2\u001b[0;31m \u001b[0mprint\u001b[0m\u001b[0;34m(\u001b[0m\u001b[0;34m\"F-score: {0:.2f}\"\u001b[0m\u001b[0;34m.\u001b[0m\u001b[0mformat\u001b[0m\u001b[0;34m(\u001b[0m\u001b[0mf1_score\u001b[0m\u001b[0;34m(\u001b[0m\u001b[0mpredictions\u001b[0m\u001b[0;34m,\u001b[0m \u001b[0my_test\u001b[0m\u001b[0;34m.\u001b[0m\u001b[0margmax\u001b[0m\u001b[0;34m(\u001b[0m\u001b[0maxis\u001b[0m\u001b[0;34m=\u001b[0m\u001b[0;36m1\u001b[0m\u001b[0;34m)\u001b[0m\u001b[0;34m,\u001b[0m\u001b[0maverage\u001b[0m\u001b[0;34m=\u001b[0m\u001b[0;34m\"samples\"\u001b[0m\u001b[0;34m)\u001b[0m\u001b[0;34m)\u001b[0m\u001b[0;34m)\u001b[0m\u001b[0;34m\u001b[0m\u001b[0m\n\u001b[0m",
      "\u001b[0;32m/usr/local/lib/python3.5/dist-packages/sklearn/metrics/classification.py\u001b[0m in \u001b[0;36mf1_score\u001b[0;34m(y_true, y_pred, labels, pos_label, average, sample_weight)\u001b[0m\n\u001b[1;32m    690\u001b[0m     return fbeta_score(y_true, y_pred, 1, labels=labels,\n\u001b[1;32m    691\u001b[0m                        \u001b[0mpos_label\u001b[0m\u001b[0;34m=\u001b[0m\u001b[0mpos_label\u001b[0m\u001b[0;34m,\u001b[0m \u001b[0maverage\u001b[0m\u001b[0;34m=\u001b[0m\u001b[0maverage\u001b[0m\u001b[0;34m,\u001b[0m\u001b[0;34m\u001b[0m\u001b[0m\n\u001b[0;32m--> 692\u001b[0;31m                        sample_weight=sample_weight)\n\u001b[0m\u001b[1;32m    693\u001b[0m \u001b[0;34m\u001b[0m\u001b[0m\n\u001b[1;32m    694\u001b[0m \u001b[0;34m\u001b[0m\u001b[0m\n",
      "\u001b[0;32m/usr/local/lib/python3.5/dist-packages/sklearn/metrics/classification.py\u001b[0m in \u001b[0;36mfbeta_score\u001b[0;34m(y_true, y_pred, beta, labels, pos_label, average, sample_weight)\u001b[0m\n\u001b[1;32m    804\u001b[0m                                                  \u001b[0maverage\u001b[0m\u001b[0;34m=\u001b[0m\u001b[0maverage\u001b[0m\u001b[0;34m,\u001b[0m\u001b[0;34m\u001b[0m\u001b[0m\n\u001b[1;32m    805\u001b[0m                                                  \u001b[0mwarn_for\u001b[0m\u001b[0;34m=\u001b[0m\u001b[0;34m(\u001b[0m\u001b[0;34m'f-score'\u001b[0m\u001b[0;34m,\u001b[0m\u001b[0;34m)\u001b[0m\u001b[0;34m,\u001b[0m\u001b[0;34m\u001b[0m\u001b[0m\n\u001b[0;32m--> 806\u001b[0;31m                                                  sample_weight=sample_weight)\n\u001b[0m\u001b[1;32m    807\u001b[0m     \u001b[0;32mreturn\u001b[0m \u001b[0mf\u001b[0m\u001b[0;34m\u001b[0m\u001b[0m\n\u001b[1;32m    808\u001b[0m \u001b[0;34m\u001b[0m\u001b[0m\n",
      "\u001b[0;32m/usr/local/lib/python3.5/dist-packages/sklearn/metrics/classification.py\u001b[0m in \u001b[0;36mprecision_recall_fscore_support\u001b[0;34m(y_true, y_pred, beta, labels, pos_label, average, warn_for, sample_weight)\u001b[0m\n\u001b[1;32m   1060\u001b[0m \u001b[0;34m\u001b[0m\u001b[0m\n\u001b[1;32m   1061\u001b[0m     \u001b[0;32melif\u001b[0m \u001b[0maverage\u001b[0m \u001b[0;34m==\u001b[0m \u001b[0;34m'samples'\u001b[0m\u001b[0;34m:\u001b[0m\u001b[0;34m\u001b[0m\u001b[0m\n\u001b[0;32m-> 1062\u001b[0;31m         raise ValueError(\"Sample-based precision, recall, fscore is \"\n\u001b[0m\u001b[1;32m   1063\u001b[0m                          \u001b[0;34m\"not meaningful outside multilabel \"\u001b[0m\u001b[0;34m\u001b[0m\u001b[0m\n\u001b[1;32m   1064\u001b[0m                          \"classification. See the accuracy_score instead.\")\n",
      "\u001b[0;31mValueError\u001b[0m: Sample-based precision, recall, fscore is not meaningful outside multilabel classification. See the accuracy_score instead."
     ]
    }
   ],
   "source": [
    "from sklearn.metrics import f1_score\n",
    "print(\"F-score: {0:.2f}\".format(f1_score(predictions, y_test.argmax(axis=1),average=\"samples\")))"
   ]
  },
  {
   "cell_type": "code",
   "execution_count": 176,
   "metadata": {
    "collapsed": false
   },
   "outputs": [
    {
     "name": "stdout",
     "output_type": "stream",
     "text": [
      "             precision    recall  f1-score   support\n",
      "\n",
      "          0       1.00      1.00      1.00        13\n",
      "          1       1.00      1.00      1.00        15\n",
      "          2       1.00      1.00      1.00        15\n",
      "          3       1.00      1.00      1.00        21\n",
      "          4       1.00      1.00      1.00        12\n",
      "          5       1.00      1.00      1.00        18\n",
      "          6       1.00      1.00      1.00        12\n",
      "          7       1.00      1.00      1.00        15\n",
      "          8       1.00      1.00      1.00        15\n",
      "          9       1.00      1.00      1.00        11\n",
      "         10       1.00      1.00      1.00        17\n",
      "         11       1.00      1.00      1.00        17\n",
      "         12       1.00      1.00      1.00        18\n",
      "         13       1.00      1.00      1.00        17\n",
      "         14       1.00      1.00      1.00        19\n",
      "         15       1.00      1.00      1.00        19\n",
      "         16       1.00      1.00      1.00        13\n",
      "         17       1.00      1.00      1.00        13\n",
      "         18       1.00      1.00      1.00        13\n",
      "         19       1.00      1.00      1.00        14\n",
      "         20       1.00      1.00      1.00        14\n",
      "         21       1.00      1.00      1.00        13\n",
      "         22       1.00      1.00      1.00        13\n",
      "         23       1.00      1.00      1.00        17\n",
      "         24       1.00      1.00      1.00        21\n",
      "         25       1.00      1.00      1.00        15\n",
      "\n",
      "avg / total       1.00      1.00      1.00       400\n",
      "\n"
     ]
    }
   ],
   "source": [
    "from sklearn.metrics import classification_report\n",
    "print(classification_report(y_test.argmax(axis=1), predictions))"
   ]
  },
  {
   "cell_type": "code",
   "execution_count": 179,
   "metadata": {
    "collapsed": true
   },
   "outputs": [],
   "source": [
    "def predict_captcha(captcha_image, neural_network):\n",
    "    subimages = segment_image(captcha_image)\n",
    "    predicted_word = \"\"\n",
    "    for subimage in subimages:\n",
    "        subimage = resize(subimage, (26, 26))\n",
    "        outputs = net.activate(subimage.flatten())\n",
    "        prediction = np.argmax(outputs)\n",
    "        predicted_word += letters[prediction]\n",
    "    return predicted_word"
   ]
  },
  {
   "cell_type": "code",
   "execution_count": 180,
   "metadata": {
    "collapsed": false
   },
   "outputs": [
    {
     "name": "stdout",
     "output_type": "stream",
     "text": [
      "GNPP\n"
     ]
    }
   ],
   "source": [
    "word = \"GENE\"\n",
    "captcha = create_captcha(word, shear=0.4)\n",
    "print(predict_captcha(captcha, net))"
   ]
  },
  {
   "cell_type": "code",
   "execution_count": 181,
   "metadata": {
    "collapsed": true
   },
   "outputs": [],
   "source": [
    "def test_prediction(word, net, shear=0.2):\n",
    "    captcha = create_captcha(word, shear=shear)\n",
    "    prediction = predict_captcha(captcha, net)\n",
    "    prediction = prediction[:4]\n",
    "    return word == prediction, word, prediction"
   ]
  },
  {
   "cell_type": "code",
   "execution_count": 182,
   "metadata": {
    "collapsed": true
   },
   "outputs": [],
   "source": [
    "from nltk.corpus import words\n",
    "import nltk"
   ]
  },
  {
   "cell_type": "code",
   "execution_count": 183,
   "metadata": {
    "collapsed": true
   },
   "outputs": [],
   "source": [
    "valid_words = [word.upper() for word in words.words() if len(word) == 4]"
   ]
  },
  {
   "cell_type": "code",
   "execution_count": 184,
   "metadata": {
    "collapsed": true
   },
   "outputs": [],
   "source": [
    "num_correct = 0\n",
    "num_incorrect = 0\n",
    "for word in valid_words:\n",
    "    correct, word, prediction = test_prediction(word, net, shear=0.2)\n",
    "    if correct:\n",
    "        num_correct += 1\n",
    "    else:\n",
    "        num_incorrect += 1"
   ]
  },
  {
   "cell_type": "code",
   "execution_count": 185,
   "metadata": {
    "collapsed": false
   },
   "outputs": [
    {
     "name": "stdout",
     "output_type": "stream",
     "text": [
      "Number correct is 3168\n",
      "Number incorrect is 2345\n"
     ]
    }
   ],
   "source": [
    "print(\"Number correct is {0}\".format(num_correct))\n",
    "print(\"Number incorrect is {0}\".format(num_incorrect))"
   ]
  },
  {
   "cell_type": "code",
   "execution_count": null,
   "metadata": {
    "collapsed": true
   },
   "outputs": [],
   "source": [
    "from sklearn.metrics import confusion_matrix\n",
    "cm = confusion_matrix(np.argmax(y_test, axis=1), predictions)"
   ]
  },
  {
   "cell_type": "code",
   "execution_count": null,
   "metadata": {
    "collapsed": true
   },
   "outputs": [],
   "source": [
    "plt.figure(figsize=(20,20))\n",
    "plt.imshow(cm, cmap=\"Blues\")"
   ]
  }
 ],
 "metadata": {
  "kernelspec": {
   "display_name": "Python 3",
   "language": "python",
   "name": "python3"
  },
  "language_info": {
   "codemirror_mode": {
    "name": "ipython",
    "version": 3
   },
   "file_extension": ".py",
   "mimetype": "text/x-python",
   "name": "python",
   "nbconvert_exporter": "python",
   "pygments_lexer": "ipython3",
   "version": "3.5.2+"
  }
 },
 "nbformat": 4,
 "nbformat_minor": 2
}
